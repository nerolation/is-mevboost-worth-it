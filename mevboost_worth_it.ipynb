{
 "cells": [
  {
   "cell_type": "code",
   "execution_count": null,
   "id": "fae6892f",
   "metadata": {},
   "outputs": [],
   "source": [
    "import math\n",
    "import pandas as pd\n",
    "import plotly.graph_objects as go\n",
    "import numpy as np\n",
    "import os\n",
    "import pandas_gbq\n",
    "\n",
    "\n",
    "def round_sig_fig(num, sig_fig):\n",
    "    return round(num, sig_fig - len(str(int(num))))"
   ]
  },
  {
   "cell_type": "code",
   "execution_count": null,
   "id": "69e231e6",
   "metadata": {},
   "outputs": [],
   "source": [
    "active_validators =  1000000\n",
    "base_reward_per_increment = 1e9*64//math.sqrt(32e9*active_validators)\n",
    "base_reward_per_increment"
   ]
  },
  {
   "cell_type": "code",
   "execution_count": null,
   "id": "36a428b4",
   "metadata": {},
   "outputs": [],
   "source": [
    "value_head_vote = 14/64*32*base_reward_per_increment\n",
    "value_source_vote = 14/64*32*base_reward_per_increment\n",
    "value_target_vote = 26/64*32*base_reward_per_increment\n",
    "value_sum_attestation = sum(\n",
    "    [value_head_vote,\n",
    "    value_source_vote,\n",
    "    value_target_vote]\n",
    ")\n",
    "value_sum_attestation"
   ]
  },
  {
   "cell_type": "code",
   "execution_count": null,
   "id": "3add7315",
   "metadata": {},
   "outputs": [],
   "source": [
    "value_sync_committee = 2/(32*512*64)*active_validators*32*base_reward_per_increment//1\n",
    "value_sync_committee"
   ]
  },
  {
   "cell_type": "code",
   "execution_count": null,
   "id": "50563330",
   "metadata": {},
   "outputs": [],
   "source": [
    "value_proposal_attestation = 8/56*value_sum_attestation*active_validators//32\n",
    "value_proposal_sync = value_sync_committee*512*8//56\n",
    "value_proposal_attestation, value_proposal_sync"
   ]
  },
  {
   "cell_type": "code",
   "execution_count": null,
   "id": "81615832",
   "metadata": {},
   "outputs": [],
   "source": [
    "value_proposal_sync = 512*8/56*value_sync_committee//1\n",
    "value_proposal_sync"
   ]
  },
  {
   "cell_type": "code",
   "execution_count": null,
   "id": "e6a62b9f",
   "metadata": {},
   "outputs": [],
   "source": [
    "reward_attestation_epoch = value_sum_attestation*active_validators\n",
    "reward_sync_committee_epoch = value_sync_committee*512*32\n",
    "reward_proposer_epoch = 32*(value_proposal_attestation+value_proposal_sync)\n",
    "epoch_reward = round_sig_fig(sum(\n",
    "    [\n",
    "        reward_attestation_epoch,\n",
    "        reward_sync_committee_epoch,\n",
    "        reward_proposer_epoch\n",
    "    ]\n",
    ")/1e9, 5)\n",
    "epoch_reward"
   ]
  },
  {
   "cell_type": "code",
   "execution_count": null,
   "id": "a1d06dae",
   "metadata": {},
   "outputs": [],
   "source": [
    "reward_attestation_epoch/32/1e9"
   ]
  },
  {
   "cell_type": "code",
   "execution_count": null,
   "id": "d02d9468",
   "metadata": {},
   "outputs": [],
   "source": [
    "reward_proposer_epoch/32/1e9"
   ]
  },
  {
   "cell_type": "code",
   "execution_count": null,
   "id": "9fd85673",
   "metadata": {},
   "outputs": [],
   "source": [
    "(value_proposal_attestation+value_proposal_sync)/1e9"
   ]
  },
  {
   "cell_type": "code",
   "execution_count": null,
   "id": "e6badc1c",
   "metadata": {},
   "outputs": [],
   "source": [
    "(active_validators*32*base_reward_per_increment, # issued per epoch\n",
    "active_validators*32*base_reward_per_increment/1e9)"
   ]
  },
  {
   "cell_type": "code",
   "execution_count": null,
   "id": "78e60825",
   "metadata": {},
   "outputs": [],
   "source": [
    "head = value_head_vote*active_validators\n",
    "source = value_source_vote*active_validators\n",
    "target = value_target_vote*active_validators\n",
    "mevboost_value = 0.306*1e9*32\n",
    "mevboost_value"
   ]
  },
  {
   "cell_type": "code",
   "execution_count": null,
   "id": "3e6fcdfb",
   "metadata": {},
   "outputs": [],
   "source": [
    "GOOGLE_CREDENTIALS = \"...\"\n",
    "\n",
    "try:\n",
    "    os.environ['GOOGLE_APPLICATION_CREDENTIALS']\n",
    "except:\n",
    "    print(f\"setting google credentials as global variable...\")\n",
    "    os.environ['GOOGLE_APPLICATION_CREDENTIALS'] = GOOGLE_CREDENTIALS\n",
    "    \n",
    "df = pandas_gbq.read_gbq(\"\"\"\n",
    "SELECT distinct A.block_number, A.reward, B.slot, C.value from ...\n",
    "\"\"\")\n",
    "\n",
    "df = df.sort_values(\"slot\").reset_index(drop=True)\n",
    "df.to_parquet(\"mevboost_value_reward_data.parquet\", index=False)\n",
    "df"
   ]
  },
  {
   "cell_type": "code",
   "execution_count": null,
   "id": "1c09f967",
   "metadata": {},
   "outputs": [],
   "source": [
    "df = pd.read_parquet(\"mevboost_value_reward_data.parquet\")\n",
    "df.loc[df[\"value\"] != None, \"value\"] = df.loc[df[\"value\"] != None, \"value\"].astype(float) / 1e18\n",
    "\n",
    "local = df[df[\"value\"].isna()]\n",
    "nlocal = df[~df[\"value\"].isna()]\n",
    "\n",
    "local = local[[\"slot\", \"reward\"]]\n",
    "nlocal = nlocal[[\"slot\", \"value\"]]\n",
    "\n",
    "fig = go.Figure()\n",
    "\n",
    "fig.add_trace(go.Histogram(\n",
    "    x=local['reward'],\n",
    "    histnorm='percent',\n",
    "    name='Local-building',\n",
    "    opacity=0.75,\n",
    "    nbinsx= 1500\n",
    "))\n",
    "\n",
    "fig.add_trace(go.Histogram(\n",
    "    x=nlocal['value'],\n",
    "    histnorm='percent',\n",
    "    name='MEV Boost',\n",
    "    opacity=0.75,\n",
    "    nbinsx= 2400\n",
    "    \n",
    "))\n",
    "\n",
    "fig.update_layout(\n",
    "    title='Rewards: Local block building vs MEV-Boost',\n",
    "    xaxis_title='Reward/Block (ETH)',\n",
    "    yaxis_title='Percentage',\n",
    "    barmode='overlay',\n",
    "    height=550,\n",
    "    legend=dict(\n",
    "        x=0.87,\n",
    "        y=0.99,\n",
    "    ),\n",
    "    width=1200,\n",
    "    font=dict(\n",
    "        family=\"Ubuntu Mono\",\n",
    "        size=14,\n",
    "        color=\"black\"\n",
    "    ),\n",
    "    plot_bgcolor = \"#FFFFFF\",\n",
    "    xaxis=dict(\n",
    "        showgrid=True,\n",
    "        gridcolor='lightgrey',\n",
    "        title=None,\n",
    "        range=[0, 0.18],\n",
    "        tickvals=np.arange(0, 0.19, 0.01)\n",
    "    ),\n",
    "    yaxis=dict(\n",
    "        showgrid=True,\n",
    "        gridcolor='lightgrey',\n",
    "    ),\n",
    ")\n",
    "\n",
    "fig.write_image(\"images/reward_comparison.png\")\n",
    "fig.show()"
   ]
  },
  {
   "cell_type": "code",
   "execution_count": null,
   "id": "5c09ada8",
   "metadata": {},
   "outputs": [],
   "source": [
    "values = [value_sum_attestation*225*365/1e9, reward_proposer_epoch/32/1e9*(7200*365/active_validators), nlocal_filtered['value'].median()*(7200*365/active_validators)]\n",
    "values2 = [value_sum_attestation*225*365/1e9, reward_proposer_epoch/32/1e9*(7200*365/active_validators), local_filtered['reward'].median()*(7200*365/active_validators)]\n",
    "\n",
    "labels1 = [\"attestation rewards\", \"proposer rewards\", \"el reward/mevboost\"]\n",
    "labels2 = [\"attestation rewards\", \"proposer rewards\", \"el reward/mevboost\"]"
   ]
  },
  {
   "cell_type": "code",
   "execution_count": null,
   "id": "52f9d1dd",
   "metadata": {},
   "outputs": [],
   "source": [
    "colors = ['#377eb8', '#ff7f00', '#4daf4a', '#984ea3', '#f781bf', '#a65628', '#e41a1c', '#ffff33', '#a6cee3', '#999999']\n",
    "\n",
    "\n",
    "fig = go.Figure()\n",
    "\n",
    "fig.add_trace(go.Pie(\n",
    "    labels=labels1,\n",
    "    values=values,\n",
    "    hole=0.3,\n",
    "    domain=dict(x=[0, 0.5]),\n",
    "    name=\"Pie Chart 1\",\n",
    "    marker=dict(colors=colors),\n",
    "        sort=False\n",
    "\n",
    "))\n",
    "\n",
    "fig.add_trace(go.Pie(\n",
    "    labels=labels2,\n",
    "    values=values2,\n",
    "    hole=0.3,\n",
    "    domain=dict(x=[0.5, 1]),\n",
    "    name=\"Pie Chart 2\",\n",
    "    marker=dict(colors=colors),\n",
    "        sort=False\n",
    "\n",
    "))\n",
    "\n",
    "fig.update_layout(\n",
    "    title='Reward Comparison: MEV Boost vs Local-building (1y)',\n",
    "    margin={\"t\": 150},\n",
    "    height=550,\n",
    "    width=1200,\n",
    "    font=dict(\n",
    "        family=\"Ubuntu Mono\",\n",
    "        size=18,\n",
    "        color=\"black\"\n",
    "    ),\n",
    "    plot_bgcolor=\"#FFFFFF\",\n",
    "    annotations=[dict(text='With MEV-Boost', x=0.17, y=1.12, font_size=20, showarrow=False),\n",
    "                 dict(text='With local building', x=0.85, y=1.12, font_size=20, showarrow=False)]\n",
    ")\n",
    "\n",
    "fig.write_image(\"images/rewards_comp_pie.png\")\n",
    "fig.show()"
   ]
  }
 ],
 "metadata": {
  "kernelspec": {
   "display_name": "open-eth-pipes",
   "language": "python",
   "name": "open-eth-pipes"
  },
  "language_info": {
   "codemirror_mode": {
    "name": "ipython",
    "version": 3
   },
   "file_extension": ".py",
   "mimetype": "text/x-python",
   "name": "python",
   "nbconvert_exporter": "python",
   "pygments_lexer": "ipython3",
   "version": "3.11.2"
  }
 },
 "nbformat": 4,
 "nbformat_minor": 5
}
